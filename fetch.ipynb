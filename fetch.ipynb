{
 "cells": [
  {
   "cell_type": "code",
   "execution_count": 1,
   "metadata": {
    "collapsed": false,
    "is_executing": true
   },
   "outputs": [],
   "source": [
    "# Basic notebook to fetch the mhtml of a page and add it to example data"
   ]
  },
  {
   "cell_type": "code",
   "execution_count": 2,
   "metadata": {},
   "outputs": [],
   "source": [
    "import os\n",
    "import urllib.parse\n",
    "import uuid\n",
    "import json\n",
    "\n",
    "from playwright.async_api import async_playwright"
   ]
  },
  {
   "cell_type": "code",
   "execution_count": 81,
   "metadata": {},
   "outputs": [],
   "source": [
    "# Setup a playwright instance. We need to do this to access the dev tool functions\n",
    "p = await async_playwright().__aenter__()\n",
    "browser = await p.chromium.launch(headless=False)\n",
    "context = await browser.new_context()\n",
    "page = await context.new_page()\n",
    "client = await context.new_cdp_session(page)"
   ]
  },
  {
   "cell_type": "code",
   "execution_count": 82,
   "metadata": {},
   "outputs": [
    {
     "data": {
      "text/plain": [
       "<Response url='https://zapier.com/blog/how-activecampaign-lowered-its-average-churn-rate/' request=<Request url='https://zapier.com/blog/how-activecampaign-lowered-its-average-churn-rate/' method='GET'>>"
      ]
     },
     "execution_count": 82,
     "metadata": {},
     "output_type": "execute_result"
    }
   ],
   "source": [
    "# Go to your desired URL\n",
    "desired_url = \"https://zapier.com/blog/hudl-uses-automation-to-create-seamless-user-experience/\"\n",
    "await page.goto(desired_url)"
   ]
  },
  {
   "cell_type": "code",
   "execution_count": 83,
   "metadata": {},
   "outputs": [],
   "source": [
    "def get_file_path(url: str) -> str:\n",
    "    parsed_url = urllib.parse.urlparse(url)\n",
    "    domain = parsed_url.netloc\n",
    "    domain = domain.replace(\"www.\", \"\").replace(\".com\", \"\")\n",
    "    return f\"./{domain}.mhtml\""
   ]
  },
  {
   "cell_type": "code",
   "execution_count": 84,
   "metadata": {},
   "outputs": [
    {
     "name": "stdout",
     "output_type": "stream",
     "text": [
      "Page saved as MHTML at: ./static/483a6a86-abf1-4505-a75b-67dfa4138a26/index.mhtml\n",
      "Page saved as MHTML at: ./static/483a6a86-abf1-4505-a75b-67dfa4138a26/index.mhtml\n"
     ]
    }
   ],
   "source": [
    "# Capture page content as MHTML\n",
    "result = await client.send(\"Page.captureSnapshot\", {\"format\": \"mhtml\"})\n",
    "mhtml = result[\"data\"]\n",
    "\n",
    "# Create example values\n",
    "# values = {\n",
    "#     \"id\": str(uuid.uuid4()),\n",
    "#     \"url\": desired_url,\n",
    "#     \"source\": \"mhtml\",\n",
    "#     \"domain\": \"UPDATE\",\n",
    "#     \"subdomain\": \"UPDATE\",\n",
    "#     \"type\": \"fetch\",\n",
    "#     \"goal\": {},\n",
    "#     \"evals\": [\n",
    "#       {\n",
    "#         \"type\": \"json_match\",\n",
    "#         \"expected\": {}\n",
    "#       }\n",
    "#     ]\n",
    "#   }\n",
    "values = {\n",
    "    \"id\": str(uuid.uuid4()),\n",
    "    \"url\": desired_url,\n",
    "    \"source\": \"mhtml\",\n",
    "    \"domain\": \"software\",\n",
    "    \"subdomain\": \"article\",\n",
    "    \"type\": \"fetch\",\n",
    "    \"evals\": [{\"type\": \"json_match\", \"expected\": {}}],\n",
    "}\n",
    "\n",
    "# Write MHTML content to the specified file\n",
    "folder_path = f\"./static/{values['id']}\"\n",
    "os.makedirs(folder_path, exist_ok=True)\n",
    "file_path = os.path.join(folder_path, \"index.mhtml\")\n",
    "with open(file_path, \"w\") as f:\n",
    "    f.write(mhtml)\n",
    "\n",
    "# Print the path to the console\n",
    "print(f\"Page saved as MHTML at: {file_path}\")\n",
    "file_path = os.path.join(folder_path, \"index.mhtml\")\n",
    "with open(file_path, \"w\") as f:\n",
    "    f.write(mhtml)\n",
    "\n",
    "# Print the path to the console\n",
    "print(f\"Page saved as MHTML at: {file_path}\")\n",
    "\n",
    "json_file_path = \"./static/examples.json\"\n",
    "with open(json_file_path, \"r\") as json_file:\n",
    "    data = json.load(json_file)\n",
    "\n",
    "data.append(values)\n",
    "\n",
    "with open(json_file_path, \"w\") as json_file:\n",
    "    json.dump(data, json_file, indent=4)\n",
    "    json_file.write(\"\\n\")\n",
    "# print(json.dumps(data, indent=4))"
   ]
  },
  {
   "cell_type": "code",
   "execution_count": 10,
   "metadata": {},
   "outputs": [
    {
     "name": "stdout",
     "output_type": "stream",
     "text": [
      "['c5e7ec4b-ad83-49a5-b056-a37ddf974a64', '8366209e-e5fb-4f64-85e0-79cd90985b59', '6152ba56-e62b-42d1-beec-6ecac1dfec35', 'd86e052f-3c14-4b4d-95e7-c26d59b771f7', '4310caaa-bf1b-4704-9362-dbf5b961972d', 'ad142573-4dcb-4c1e-9a4d-6fa1fa818026', '69a755f1-33db-4f77-9b8e-0e90cf7c7188', 'f8e6ac9d-584d-4321-9451-7ebe0af3b6cb', '766abf53-e055-4e4d-ac42-531e74606846', '9a10af79-08e2-4d73-a2a1-675bb97126bb', '77d6efb9-2581-4f5f-a681-1b94696d9044', '5db440aa-f155-4297-bae4-769c8c808acd', 'cc29229c-30f6-4a03-a4b6-2755ed0cca14', '6535b75f-be1e-4f68-aedd-f3ff167d98ca', '0880ea91-7c5e-415c-9d2f-00457f110ee8', 'a266e560-aa88-49fe-b3c0-2731163b1921', 'db0872df-fd27-4fff-bce8-3513f8e1164d', '574db794-8055-4fe6-bd16-5f9ee6eccbb4', 'a4e1ac68-35bc-44a6-9e5f-53785df53bf2', 'c0028644-9bfa-470e-9efd-d8473b42e313', '111ebd24-8617-48cb-b963-eb692bf1e53a', '270c2ebd-96c0-4bab-a24c-2c38a2df20aa', 'ed7b1cf6-5be4-40e7-ad00-89a67d1c8e40', '5df3d301-09f0-4ece-946d-c24952069ab7', '18b0b51e-196c-4765-bd70-aecff53f7e4d', 'db3fb266-a2cc-41bd-8995-1bdf2dd647fc', 'dcad6730-1eb2-4df7-afb7-9b034afb2f04', '174b1151-ea9a-4745-bc88-8c56ffc23131', '9aa944d7-257b-4451-9958-feddfb7bd250', '18c29ec8-de1d-4015-aeb5-92129b9bba6c', 'a10f13b0-e4f1-490a-9fa1-64082d15e087', '97022d6c-f9d6-4481-85c8-2a9d9779e7b9', '41147504-625d-45d5-9689-92218fdd32b5', 'c713976a-fd1d-4577-9956-c2a3ab295ead', '47b45f41-2b7e-4295-ac0c-93f02354cd93', '97dc7166-7dcb-4c9f-941f-342996bf1ca8', '29cc4cad-f85c-4d8f-952e-f41f7eb2bc73', 'bb50f4e4-7d66-4ba6-b613-1065ea58a6fc', '1e4d7ca6-5292-4857-aca6-bd0fff337435', 'c45a5a21-964c-422c-96a9-acbfdebc64bc', 'f9e89327-3556-492d-963d-3765eebdbb1d', '3724f66f-9743-499c-a4b5-7b7f32d9e2a4', '3ee0e369-1cd7-41ac-940c-bee1afc1ef26', 'ce4dede3-9fee-44ea-99a6-0137a9aa2db8', '998ed1f9-a3a8-4e85-9863-ccfa8d21d9a6', '18f93ec4-086c-467c-a952-8565d8005742', 'cd1ba388-8732-49e0-a5b1-09691aad999d', '6ad8593d-547d-4591-b4d5-a7cc42feeed4', '974d2768-776c-4157-8e6d-aea8bb22f832', 'bdf05e0f-fe5f-4b0c-b750-a176d274d281', '8bf5db6d-3df6-464b-92b0-c0a04317feec', 'a2a07987-e9da-434d-9190-07a2e74c9600', '6d744ee4-bfb8-4061-badd-8ffa7e954e0f', 'fe899480-b3d1-4c28-a91f-a7c63b05c940', '62bca094-6cff-4cc5-8592-71d283babfa6', '361cdcca-41ed-4afd-b9fb-d7f98289d4fb', 'd5df56b5-f0bd-4d69-8cb5-11edfbf4568e', 'a4593517-4ff7-40dd-b100-e24b90c72819', '3692abd6-a2d1-4148-bd85-8993e9e2db81', '3b13610f-9bf2-44ad-b223-f5db5a6e259a', '4e974283-6ad8-4c6d-9788-0aff49ab0a57', '3c99030a-088b-42fc-bab6-84972afb65b5', 'afc8133f-a641-46fe-bf93-5b98d8e6cea3', '17d5678f-05ac-4bd4-b52b-79e6a710f8f1', '180a3e5f-1cd7-4073-bf02-3dc663a6d41e', '5b3eb94e-3e5c-4c39-832c-48c25f38a8b8', 'f6c00da0-3976-457b-982c-3efdea0ff7bb', '583c1f78-16aa-4eee-ae29-4277f4495ea1', '88ac8af0-d461-4c7f-8498-d7d53d65e3c0', 'b81f0252-ecca-4dda-a7e1-dcdc48d0db2c', 'c8ebee22-eeac-4479-9ca6-aebb1efc3a2f', '9d2df10f-4f04-4968-8227-c8a12f74b63d', 'ae5045c0-b6c2-40a3-9dab-bfafadb1f1ed', 'f436cee3-06d1-472e-b98b-615905e41c52', '0fe1cf15-d5fb-416c-9e1b-f5cae188d088', '4d167753-d180-497d-8510-02ab26f3a0f7', 'd401233f-2d50-426f-bf77-004411a19d6d', 'e0ce7070-8cb3-416a-8090-7a6a186b4e8a', 'c95632a7-31a8-4177-9361-d07bdd809a7a', 'a33c17c6-b2cd-433f-8972-09b969667866', 'cb25b8d2-1ac6-43d5-930f-70edeccf34f9', '2ac79ff2-a923-49df-9e66-5ce7f9d5d0e4', 'd76159ad-f62a-49e1-9896-df5ef91dcb5f', '17c411ab-5586-4cd7-940c-514959796b4f', '6d85220a-b86e-4b85-96c8-0fb94447cf29', '6b9054b1-c67c-46cc-bd67-7dfd29a9ebf1', 'a316a94d-7ad6-4385-a2e0-4b47e1f1a661', '8fc4b97d-f823-4c31-b50f-ad42671fe2b1', 'b572a5e4-717b-41ab-86e3-ec41cac368b3', 'b2a98bed-bce2-404a-9b6b-ff27d28a6c1f', '83e3aff0-8447-4c67-9d4c-18ce8954585a', 'db2c9d7a-7c76-441a-a21b-c2bfe200407d', '65e9b04a-7833-43f3-877d-ae27a02eed70', 'c6bee4be-3394-4867-b5a8-52d6e9901e62', '135502cc-bdaf-4f36-a2d5-4023a331aa6a', '36601c8a-255c-4f64-b723-3694d1c9dcc1', '073862e2-e519-42cb-8cb0-d9e419a33a1b', '953ff6ad-d115-499f-9e51-bed7b638ad41', '08ca1fdd-a20e-4662-bbf1-58eedd4110a0', '5cc195cf-ac77-46ef-a9ac-f96887c8a50f', 'e6067e2c-efd3-4ae4-a766-a1a846c678ad', 'ede570fd-c859-47bc-8432-7d0e7a25139e', '238f430b-824a-46e9-8f2e-5fa08176a0e0', 'd0f2dd50-db96-475a-ae1f-57acba811fae', 'ef217309-7c87-45f9-931c-fc662d55646a', '6088d589-a01d-4360-a3e5-c22e7a9baed4', '0de6f7ca-3eba-45d9-990d-3255955c38e6', '4cd7de7b-5cf9-48aa-b1c9-be1858eb0a26', 'bc7d1f13-811d-42a5-a3f7-49175675a54e', 'ca386162-ee75-485e-8f9d-13d488fc477a']\n",
      "110\n"
     ]
    }
   ],
   "source": [
    "import os\n",
    "import shutil\n",
    "\n",
    "\"\"\"\n",
    "Utility to delete extra mhtml folders\n",
    "\"\"\"\n",
    "# Read in the examples.json and fetch all of the ids\n",
    "ids = []\n",
    "path = \"./static/examples.json\"\n",
    "with open(path, \"r\") as json_file:\n",
    "    data = json.load(json_file)\n",
    "    ids += [item[\"id\"] for item in data]\n",
    "path = \"./static/test_examples.json\"\n",
    "with open(path, \"r\") as json_file:\n",
    "    data = json.load(json_file)\n",
    "    ids += [item[\"id\"] for item in data]\n",
    "\n",
    "print(ids)\n",
    "print(len(ids))\n",
    "\n",
    "# Iterate through the folders\n",
    "base_folder = \"./static/\"\n",
    "for folder in os.listdir(base_folder):\n",
    "    folder_path = os.path.join(base_folder, folder)\n",
    "    if folder not in ids and os.path.isdir(folder_path):\n",
    "        # If there is an id that is not present and the path is a directory, delete that folder\n",
    "        shutil.rmtree(folder_path)"
   ]
  },
  {
   "cell_type": "code",
   "execution_count": null,
   "metadata": {},
   "outputs": [],
   "source": []
  }
 ],
 "metadata": {
  "kernelspec": {
   "display_name": "Python 3",
   "language": "python",
   "name": "python3"
  },
  "language_info": {
   "codemirror_mode": {
    "name": "ipython",
    "version": 3
   },
   "file_extension": ".py",
   "mimetype": "text/x-python",
   "name": "python",
   "nbconvert_exporter": "python",
   "pygments_lexer": "ipython3",
   "version": "3.11.0"
  }
 },
 "nbformat": 4,
 "nbformat_minor": 2
}
